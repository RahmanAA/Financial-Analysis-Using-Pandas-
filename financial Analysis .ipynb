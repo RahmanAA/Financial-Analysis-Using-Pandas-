{
 "cells": [
  {
   "cell_type": "code",
   "execution_count": 102,
   "id": "6cd3d046",
   "metadata": {},
   "outputs": [],
   "source": [
    "## Project Questions \n",
    "\n",
    "# which segments are most profit \n",
    "# which countries gain most profit \n",
    "# which product are most expensive \n",
    "# which product enjoys most discounts \n",
    "# does discounts giving increase profitability of products \n"
   ]
  },
  {
   "cell_type": "code",
   "execution_count": 103,
   "id": "61072c24",
   "metadata": {},
   "outputs": [],
   "source": [
    "# import libraries \n",
    "import pandas as pd\n",
    "import numpy as np"
   ]
  },
  {
   "cell_type": "code",
   "execution_count": 104,
   "id": "245d494e",
   "metadata": {},
   "outputs": [],
   "source": [
    "# load the data \n",
    "df = pd.read_csv('Financial Sample.csv')"
   ]
  },
  {
   "cell_type": "code",
   "execution_count": 105,
   "id": "bb40dcfc",
   "metadata": {},
   "outputs": [
    {
     "data": {
      "text/html": [
       "<div>\n",
       "<style scoped>\n",
       "    .dataframe tbody tr th:only-of-type {\n",
       "        vertical-align: middle;\n",
       "    }\n",
       "\n",
       "    .dataframe tbody tr th {\n",
       "        vertical-align: top;\n",
       "    }\n",
       "\n",
       "    .dataframe thead th {\n",
       "        text-align: right;\n",
       "    }\n",
       "</style>\n",
       "<table border=\"1\" class=\"dataframe\">\n",
       "  <thead>\n",
       "    <tr style=\"text-align: right;\">\n",
       "      <th></th>\n",
       "      <th>Segment</th>\n",
       "      <th>Country</th>\n",
       "      <th>Product</th>\n",
       "      <th>Discount Band</th>\n",
       "      <th>Units Sold</th>\n",
       "      <th>Manufacturing Price</th>\n",
       "      <th>Sale Price</th>\n",
       "      <th>Gross Sales</th>\n",
       "      <th>Discounts</th>\n",
       "      <th>Sales</th>\n",
       "      <th>COGS</th>\n",
       "      <th>Profit</th>\n",
       "      <th>Date</th>\n",
       "      <th>Month Number</th>\n",
       "      <th>Month Name</th>\n",
       "      <th>Year</th>\n",
       "      <th>Unnamed: 16</th>\n",
       "    </tr>\n",
       "  </thead>\n",
       "  <tbody>\n",
       "    <tr>\n",
       "      <th>0</th>\n",
       "      <td>Government</td>\n",
       "      <td>Canada</td>\n",
       "      <td>Carretera</td>\n",
       "      <td>None</td>\n",
       "      <td>1618.5</td>\n",
       "      <td>US$3.00</td>\n",
       "      <td>US$20.00</td>\n",
       "      <td>US$32,370.00</td>\n",
       "      <td>US$\\t-</td>\n",
       "      <td>US$32,370.00</td>\n",
       "      <td>US$16,185.00</td>\n",
       "      <td>US$16,185.00</td>\n",
       "      <td>01/01/14</td>\n",
       "      <td>1</td>\n",
       "      <td>January</td>\n",
       "      <td>2014</td>\n",
       "      <td>NaN</td>\n",
       "    </tr>\n",
       "    <tr>\n",
       "      <th>1</th>\n",
       "      <td>Government</td>\n",
       "      <td>Germany</td>\n",
       "      <td>Carretera</td>\n",
       "      <td>None</td>\n",
       "      <td>1321.0</td>\n",
       "      <td>US$3.00</td>\n",
       "      <td>US$20.00</td>\n",
       "      <td>US$26,420.00</td>\n",
       "      <td>US$\\t-</td>\n",
       "      <td>US$26,420.00</td>\n",
       "      <td>US$13,210.00</td>\n",
       "      <td>US$13,210.00</td>\n",
       "      <td>01/01/14</td>\n",
       "      <td>1</td>\n",
       "      <td>January</td>\n",
       "      <td>2014</td>\n",
       "      <td>NaN</td>\n",
       "    </tr>\n",
       "    <tr>\n",
       "      <th>2</th>\n",
       "      <td>Midmarket</td>\n",
       "      <td>France</td>\n",
       "      <td>Carretera</td>\n",
       "      <td>None</td>\n",
       "      <td>2178.0</td>\n",
       "      <td>US$3.00</td>\n",
       "      <td>US$15.00</td>\n",
       "      <td>US$32,670.00</td>\n",
       "      <td>US$\\t-</td>\n",
       "      <td>US$32,670.00</td>\n",
       "      <td>US$21,780.00</td>\n",
       "      <td>US$10,890.00</td>\n",
       "      <td>06/01/14</td>\n",
       "      <td>6</td>\n",
       "      <td>June</td>\n",
       "      <td>2014</td>\n",
       "      <td>NaN</td>\n",
       "    </tr>\n",
       "    <tr>\n",
       "      <th>3</th>\n",
       "      <td>Midmarket</td>\n",
       "      <td>Germany</td>\n",
       "      <td>Carretera</td>\n",
       "      <td>None</td>\n",
       "      <td>888.0</td>\n",
       "      <td>US$3.00</td>\n",
       "      <td>US$15.00</td>\n",
       "      <td>US$13,320.00</td>\n",
       "      <td>US$\\t-</td>\n",
       "      <td>US$13,320.00</td>\n",
       "      <td>US$8,880.00</td>\n",
       "      <td>US$4,440.00</td>\n",
       "      <td>06/01/14</td>\n",
       "      <td>6</td>\n",
       "      <td>June</td>\n",
       "      <td>2014</td>\n",
       "      <td>NaN</td>\n",
       "    </tr>\n",
       "    <tr>\n",
       "      <th>4</th>\n",
       "      <td>Midmarket</td>\n",
       "      <td>Mexico</td>\n",
       "      <td>Carretera</td>\n",
       "      <td>None</td>\n",
       "      <td>2470.0</td>\n",
       "      <td>US$3.00</td>\n",
       "      <td>US$15.00</td>\n",
       "      <td>US$37,050.00</td>\n",
       "      <td>US$\\t-</td>\n",
       "      <td>US$37,050.00</td>\n",
       "      <td>US$24,700.00</td>\n",
       "      <td>US$12,350.00</td>\n",
       "      <td>06/01/14</td>\n",
       "      <td>6</td>\n",
       "      <td>June</td>\n",
       "      <td>2014</td>\n",
       "      <td>NaN</td>\n",
       "    </tr>\n",
       "  </tbody>\n",
       "</table>\n",
       "</div>"
      ],
      "text/plain": [
       "      Segment  Country    Product Discount Band  Units Sold  \\\n",
       "0  Government   Canada  Carretera          None      1618.5   \n",
       "1  Government  Germany  Carretera          None      1321.0   \n",
       "2   Midmarket   France  Carretera          None      2178.0   \n",
       "3   Midmarket  Germany  Carretera          None       888.0   \n",
       "4   Midmarket   Mexico  Carretera          None      2470.0   \n",
       "\n",
       "  Manufacturing Price Sale Price   Gross Sales   Discounts         Sales  \\\n",
       "0             US$3.00   US$20.00  US$32,370.00   US$\\t-     US$32,370.00   \n",
       "1             US$3.00   US$20.00  US$26,420.00   US$\\t-     US$26,420.00   \n",
       "2             US$3.00   US$15.00  US$32,670.00   US$\\t-     US$32,670.00   \n",
       "3             US$3.00   US$15.00  US$13,320.00   US$\\t-     US$13,320.00   \n",
       "4             US$3.00   US$15.00  US$37,050.00   US$\\t-     US$37,050.00   \n",
       "\n",
       "           COGS        Profit      Date  Month Number Month Name  Year  \\\n",
       "0  US$16,185.00  US$16,185.00  01/01/14             1    January  2014   \n",
       "1  US$13,210.00  US$13,210.00  01/01/14             1    January  2014   \n",
       "2  US$21,780.00  US$10,890.00  06/01/14             6       June  2014   \n",
       "3   US$8,880.00   US$4,440.00  06/01/14             6       June  2014   \n",
       "4  US$24,700.00  US$12,350.00  06/01/14             6       June  2014   \n",
       "\n",
       "   Unnamed: 16  \n",
       "0          NaN  \n",
       "1          NaN  \n",
       "2          NaN  \n",
       "3          NaN  \n",
       "4          NaN  "
      ]
     },
     "execution_count": 105,
     "metadata": {},
     "output_type": "execute_result"
    }
   ],
   "source": [
    "# check the first columns of the data \n",
    "df.head(5)"
   ]
  },
  {
   "cell_type": "code",
   "execution_count": null,
   "id": "32a4791b",
   "metadata": {},
   "outputs": [],
   "source": []
  },
  {
   "cell_type": "markdown",
   "id": "8662aaf5",
   "metadata": {},
   "source": [
    "## Cleaning this data "
   ]
  },
  {
   "cell_type": "code",
   "execution_count": 106,
   "id": "4801826b",
   "metadata": {},
   "outputs": [],
   "source": [
    "# removing the \"US$\" from theses columns \n",
    "df['Manufacturing Price'] = df['Manufacturing Price'].str.replace('\\D', '', regex=True)\n",
    "df['Sale Price'] = df['Sale Price'].str.replace('\\D', '', regex=True)\n",
    "df['Gross Sales'] = df['Gross Sales'].str.replace('\\D', '', regex=True)\n",
    "df['Discounts'] = df['Discounts'].str.replace('\\D', '', regex=True)\n",
    "df[' Sales'] = df[' Sales'].str.replace('\\D', '', regex=True)\n",
    "df['COGS'] = df['COGS'].str.replace('\\D', '', regex=True)\n",
    "df['Profit'] = df['Profit'].str.replace('\\D', '', regex=True)\n"
   ]
  },
  {
   "cell_type": "code",
   "execution_count": 107,
   "id": "f82a3e9d",
   "metadata": {},
   "outputs": [
    {
     "data": {
      "text/html": [
       "<div>\n",
       "<style scoped>\n",
       "    .dataframe tbody tr th:only-of-type {\n",
       "        vertical-align: middle;\n",
       "    }\n",
       "\n",
       "    .dataframe tbody tr th {\n",
       "        vertical-align: top;\n",
       "    }\n",
       "\n",
       "    .dataframe thead th {\n",
       "        text-align: right;\n",
       "    }\n",
       "</style>\n",
       "<table border=\"1\" class=\"dataframe\">\n",
       "  <thead>\n",
       "    <tr style=\"text-align: right;\">\n",
       "      <th></th>\n",
       "      <th>Segment</th>\n",
       "      <th>Country</th>\n",
       "      <th>Product</th>\n",
       "      <th>Discount Band</th>\n",
       "      <th>Units Sold</th>\n",
       "      <th>Manufacturing Price</th>\n",
       "      <th>Sale Price</th>\n",
       "      <th>Gross Sales</th>\n",
       "      <th>Discounts</th>\n",
       "      <th>Sales</th>\n",
       "      <th>COGS</th>\n",
       "      <th>Profit</th>\n",
       "      <th>Date</th>\n",
       "      <th>Month Number</th>\n",
       "      <th>Month Name</th>\n",
       "      <th>Year</th>\n",
       "      <th>Unnamed: 16</th>\n",
       "    </tr>\n",
       "  </thead>\n",
       "  <tbody>\n",
       "    <tr>\n",
       "      <th>0</th>\n",
       "      <td>Government</td>\n",
       "      <td>Canada</td>\n",
       "      <td>Carretera</td>\n",
       "      <td>None</td>\n",
       "      <td>1618.5</td>\n",
       "      <td>300</td>\n",
       "      <td>2000</td>\n",
       "      <td>3237000</td>\n",
       "      <td></td>\n",
       "      <td>3237000</td>\n",
       "      <td>1618500</td>\n",
       "      <td>1618500</td>\n",
       "      <td>01/01/14</td>\n",
       "      <td>1</td>\n",
       "      <td>January</td>\n",
       "      <td>2014</td>\n",
       "      <td>NaN</td>\n",
       "    </tr>\n",
       "    <tr>\n",
       "      <th>1</th>\n",
       "      <td>Government</td>\n",
       "      <td>Germany</td>\n",
       "      <td>Carretera</td>\n",
       "      <td>None</td>\n",
       "      <td>1321.0</td>\n",
       "      <td>300</td>\n",
       "      <td>2000</td>\n",
       "      <td>2642000</td>\n",
       "      <td></td>\n",
       "      <td>2642000</td>\n",
       "      <td>1321000</td>\n",
       "      <td>1321000</td>\n",
       "      <td>01/01/14</td>\n",
       "      <td>1</td>\n",
       "      <td>January</td>\n",
       "      <td>2014</td>\n",
       "      <td>NaN</td>\n",
       "    </tr>\n",
       "    <tr>\n",
       "      <th>2</th>\n",
       "      <td>Midmarket</td>\n",
       "      <td>France</td>\n",
       "      <td>Carretera</td>\n",
       "      <td>None</td>\n",
       "      <td>2178.0</td>\n",
       "      <td>300</td>\n",
       "      <td>1500</td>\n",
       "      <td>3267000</td>\n",
       "      <td></td>\n",
       "      <td>3267000</td>\n",
       "      <td>2178000</td>\n",
       "      <td>1089000</td>\n",
       "      <td>06/01/14</td>\n",
       "      <td>6</td>\n",
       "      <td>June</td>\n",
       "      <td>2014</td>\n",
       "      <td>NaN</td>\n",
       "    </tr>\n",
       "    <tr>\n",
       "      <th>3</th>\n",
       "      <td>Midmarket</td>\n",
       "      <td>Germany</td>\n",
       "      <td>Carretera</td>\n",
       "      <td>None</td>\n",
       "      <td>888.0</td>\n",
       "      <td>300</td>\n",
       "      <td>1500</td>\n",
       "      <td>1332000</td>\n",
       "      <td></td>\n",
       "      <td>1332000</td>\n",
       "      <td>888000</td>\n",
       "      <td>444000</td>\n",
       "      <td>06/01/14</td>\n",
       "      <td>6</td>\n",
       "      <td>June</td>\n",
       "      <td>2014</td>\n",
       "      <td>NaN</td>\n",
       "    </tr>\n",
       "    <tr>\n",
       "      <th>4</th>\n",
       "      <td>Midmarket</td>\n",
       "      <td>Mexico</td>\n",
       "      <td>Carretera</td>\n",
       "      <td>None</td>\n",
       "      <td>2470.0</td>\n",
       "      <td>300</td>\n",
       "      <td>1500</td>\n",
       "      <td>3705000</td>\n",
       "      <td></td>\n",
       "      <td>3705000</td>\n",
       "      <td>2470000</td>\n",
       "      <td>1235000</td>\n",
       "      <td>06/01/14</td>\n",
       "      <td>6</td>\n",
       "      <td>June</td>\n",
       "      <td>2014</td>\n",
       "      <td>NaN</td>\n",
       "    </tr>\n",
       "  </tbody>\n",
       "</table>\n",
       "</div>"
      ],
      "text/plain": [
       "      Segment  Country    Product Discount Band  Units Sold  \\\n",
       "0  Government   Canada  Carretera          None      1618.5   \n",
       "1  Government  Germany  Carretera          None      1321.0   \n",
       "2   Midmarket   France  Carretera          None      2178.0   \n",
       "3   Midmarket  Germany  Carretera          None       888.0   \n",
       "4   Midmarket   Mexico  Carretera          None      2470.0   \n",
       "\n",
       "  Manufacturing Price Sale Price Gross Sales Discounts    Sales     COGS  \\\n",
       "0                 300       2000     3237000            3237000  1618500   \n",
       "1                 300       2000     2642000            2642000  1321000   \n",
       "2                 300       1500     3267000            3267000  2178000   \n",
       "3                 300       1500     1332000            1332000   888000   \n",
       "4                 300       1500     3705000            3705000  2470000   \n",
       "\n",
       "    Profit      Date  Month Number Month Name  Year  Unnamed: 16  \n",
       "0  1618500  01/01/14             1    January  2014          NaN  \n",
       "1  1321000  01/01/14             1    January  2014          NaN  \n",
       "2  1089000  06/01/14             6       June  2014          NaN  \n",
       "3   444000  06/01/14             6       June  2014          NaN  \n",
       "4  1235000  06/01/14             6       June  2014          NaN  "
      ]
     },
     "execution_count": 107,
     "metadata": {},
     "output_type": "execute_result"
    }
   ],
   "source": [
    "## view data after cleaning \n",
    "\n",
    "df.head(5)"
   ]
  },
  {
   "cell_type": "code",
   "execution_count": 108,
   "id": "83fc473a",
   "metadata": {},
   "outputs": [
    {
     "data": {
      "text/plain": [
       "Index(['Segment', 'Country', 'Product', 'Discount Band', 'Units Sold',\n",
       "       'Manufacturing Price', 'Sale Price', 'Gross Sales', 'Discounts',\n",
       "       ' Sales', 'COGS', 'Profit', 'Date', 'Month Number', 'Month Name',\n",
       "       'Year', 'Unnamed: 16'],\n",
       "      dtype='object')"
      ]
     },
     "execution_count": 108,
     "metadata": {},
     "output_type": "execute_result"
    }
   ],
   "source": [
    "# check columns in our dataset \n",
    "df.columns"
   ]
  },
  {
   "cell_type": "code",
   "execution_count": 109,
   "id": "e01bbf11",
   "metadata": {},
   "outputs": [
    {
     "name": "stdout",
     "output_type": "stream",
     "text": [
      "<class 'pandas.core.frame.DataFrame'>\n",
      "RangeIndex: 700 entries, 0 to 699\n",
      "Data columns (total 17 columns):\n",
      " #   Column               Non-Null Count  Dtype  \n",
      "---  ------               --------------  -----  \n",
      " 0   Segment              700 non-null    object \n",
      " 1   Country              700 non-null    object \n",
      " 2   Product              700 non-null    object \n",
      " 3   Discount Band        700 non-null    object \n",
      " 4   Units Sold           700 non-null    float64\n",
      " 5   Manufacturing Price  700 non-null    object \n",
      " 6   Sale Price           700 non-null    object \n",
      " 7   Gross Sales          700 non-null    object \n",
      " 8   Discounts            700 non-null    object \n",
      " 9    Sales               700 non-null    object \n",
      " 10  COGS                 700 non-null    object \n",
      " 11  Profit               700 non-null    object \n",
      " 12  Date                 700 non-null    object \n",
      " 13  Month Number         700 non-null    int64  \n",
      " 14  Month Name           700 non-null    object \n",
      " 15  Year                 700 non-null    int64  \n",
      " 16  Unnamed: 16          0 non-null      float64\n",
      "dtypes: float64(2), int64(2), object(13)\n",
      "memory usage: 93.1+ KB\n"
     ]
    }
   ],
   "source": [
    "# check data types of our columns \n",
    "df.info()"
   ]
  },
  {
   "cell_type": "code",
   "execution_count": 110,
   "id": "0d3b266c",
   "metadata": {},
   "outputs": [],
   "source": [
    "## change datasets from categorical to numerical \n",
    "\n",
    "df['Manufacturing Price'] = pd.to_numeric(df['Manufacturing Price'])\n",
    "df['Sale Price'] = pd.to_numeric(df['Sale Price'])\n",
    "df['Gross Sales'] = pd.to_numeric(df['Gross Sales'])\n",
    "df['Discounts'] = pd.to_numeric(df['Discounts'])\n",
    "df['COGS'] = pd.to_numeric(df['COGS'])\n",
    "df['Profit'] = pd.to_numeric(df['Profit'])\n",
    "df[' Sales'] = pd.to_numeric(df[' Sales'])"
   ]
  },
  {
   "cell_type": "code",
   "execution_count": 111,
   "id": "5a043381",
   "metadata": {},
   "outputs": [
    {
     "data": {
      "text/plain": [
       "Series([], Name: Unnamed: 16, dtype: int64)"
      ]
     },
     "execution_count": 111,
     "metadata": {},
     "output_type": "execute_result"
    }
   ],
   "source": [
    "## Check the values in this column\n",
    "df['Unnamed: 16'].value_counts()"
   ]
  },
  {
   "cell_type": "code",
   "execution_count": 112,
   "id": "2fe29998",
   "metadata": {},
   "outputs": [],
   "source": [
    "# remove the last column\n",
    "df1 = df.iloc[: , :-1]"
   ]
  },
  {
   "cell_type": "code",
   "execution_count": 113,
   "id": "04ee60f5",
   "metadata": {},
   "outputs": [],
   "source": [
    "# change the date column into date data type \n",
    "df1['Date']= pd.to_datetime(df1['Date'])"
   ]
  },
  {
   "cell_type": "code",
   "execution_count": 114,
   "id": "20f348e2",
   "metadata": {},
   "outputs": [
    {
     "name": "stdout",
     "output_type": "stream",
     "text": [
      "<class 'pandas.core.frame.DataFrame'>\n",
      "RangeIndex: 700 entries, 0 to 699\n",
      "Data columns (total 16 columns):\n",
      " #   Column               Non-Null Count  Dtype         \n",
      "---  ------               --------------  -----         \n",
      " 0   Segment              700 non-null    object        \n",
      " 1   Country              700 non-null    object        \n",
      " 2   Product              700 non-null    object        \n",
      " 3   Discount Band        700 non-null    object        \n",
      " 4   Units Sold           700 non-null    float64       \n",
      " 5   Manufacturing Price  700 non-null    int64         \n",
      " 6   Sale Price           700 non-null    int64         \n",
      " 7   Gross Sales          700 non-null    int64         \n",
      " 8   Discounts            647 non-null    float64       \n",
      " 9    Sales               700 non-null    int64         \n",
      " 10  COGS                 700 non-null    int64         \n",
      " 11  Profit               695 non-null    float64       \n",
      " 12  Date                 700 non-null    datetime64[ns]\n",
      " 13  Month Number         700 non-null    int64         \n",
      " 14  Month Name           700 non-null    object        \n",
      " 15  Year                 700 non-null    int64         \n",
      "dtypes: datetime64[ns](1), float64(3), int64(7), object(5)\n",
      "memory usage: 87.6+ KB\n"
     ]
    }
   ],
   "source": [
    "df1.info()"
   ]
  },
  {
   "cell_type": "code",
   "execution_count": 115,
   "id": "567a2daa",
   "metadata": {},
   "outputs": [
    {
     "data": {
      "text/html": [
       "<div>\n",
       "<style scoped>\n",
       "    .dataframe tbody tr th:only-of-type {\n",
       "        vertical-align: middle;\n",
       "    }\n",
       "\n",
       "    .dataframe tbody tr th {\n",
       "        vertical-align: top;\n",
       "    }\n",
       "\n",
       "    .dataframe thead th {\n",
       "        text-align: right;\n",
       "    }\n",
       "</style>\n",
       "<table border=\"1\" class=\"dataframe\">\n",
       "  <thead>\n",
       "    <tr style=\"text-align: right;\">\n",
       "      <th></th>\n",
       "      <th>Segment</th>\n",
       "      <th>Country</th>\n",
       "      <th>Product</th>\n",
       "      <th>Discount Band</th>\n",
       "      <th>Units Sold</th>\n",
       "      <th>Manufacturing Price</th>\n",
       "      <th>Sale Price</th>\n",
       "      <th>Gross Sales</th>\n",
       "      <th>Discounts</th>\n",
       "      <th>Sales</th>\n",
       "      <th>COGS</th>\n",
       "      <th>Profit</th>\n",
       "      <th>Date</th>\n",
       "      <th>Month Number</th>\n",
       "      <th>Month Name</th>\n",
       "      <th>Year</th>\n",
       "    </tr>\n",
       "  </thead>\n",
       "  <tbody>\n",
       "    <tr>\n",
       "      <th>0</th>\n",
       "      <td>Government</td>\n",
       "      <td>Canada</td>\n",
       "      <td>Carretera</td>\n",
       "      <td>None</td>\n",
       "      <td>1618.5</td>\n",
       "      <td>300</td>\n",
       "      <td>2000</td>\n",
       "      <td>3237000</td>\n",
       "      <td>NaN</td>\n",
       "      <td>3237000</td>\n",
       "      <td>1618500</td>\n",
       "      <td>1618500.0</td>\n",
       "      <td>2014-01-01</td>\n",
       "      <td>1</td>\n",
       "      <td>January</td>\n",
       "      <td>2014</td>\n",
       "    </tr>\n",
       "    <tr>\n",
       "      <th>1</th>\n",
       "      <td>Government</td>\n",
       "      <td>Germany</td>\n",
       "      <td>Carretera</td>\n",
       "      <td>None</td>\n",
       "      <td>1321.0</td>\n",
       "      <td>300</td>\n",
       "      <td>2000</td>\n",
       "      <td>2642000</td>\n",
       "      <td>NaN</td>\n",
       "      <td>2642000</td>\n",
       "      <td>1321000</td>\n",
       "      <td>1321000.0</td>\n",
       "      <td>2014-01-01</td>\n",
       "      <td>1</td>\n",
       "      <td>January</td>\n",
       "      <td>2014</td>\n",
       "    </tr>\n",
       "    <tr>\n",
       "      <th>2</th>\n",
       "      <td>Midmarket</td>\n",
       "      <td>France</td>\n",
       "      <td>Carretera</td>\n",
       "      <td>None</td>\n",
       "      <td>2178.0</td>\n",
       "      <td>300</td>\n",
       "      <td>1500</td>\n",
       "      <td>3267000</td>\n",
       "      <td>NaN</td>\n",
       "      <td>3267000</td>\n",
       "      <td>2178000</td>\n",
       "      <td>1089000.0</td>\n",
       "      <td>2014-06-01</td>\n",
       "      <td>6</td>\n",
       "      <td>June</td>\n",
       "      <td>2014</td>\n",
       "    </tr>\n",
       "    <tr>\n",
       "      <th>3</th>\n",
       "      <td>Midmarket</td>\n",
       "      <td>Germany</td>\n",
       "      <td>Carretera</td>\n",
       "      <td>None</td>\n",
       "      <td>888.0</td>\n",
       "      <td>300</td>\n",
       "      <td>1500</td>\n",
       "      <td>1332000</td>\n",
       "      <td>NaN</td>\n",
       "      <td>1332000</td>\n",
       "      <td>888000</td>\n",
       "      <td>444000.0</td>\n",
       "      <td>2014-06-01</td>\n",
       "      <td>6</td>\n",
       "      <td>June</td>\n",
       "      <td>2014</td>\n",
       "    </tr>\n",
       "    <tr>\n",
       "      <th>4</th>\n",
       "      <td>Midmarket</td>\n",
       "      <td>Mexico</td>\n",
       "      <td>Carretera</td>\n",
       "      <td>None</td>\n",
       "      <td>2470.0</td>\n",
       "      <td>300</td>\n",
       "      <td>1500</td>\n",
       "      <td>3705000</td>\n",
       "      <td>NaN</td>\n",
       "      <td>3705000</td>\n",
       "      <td>2470000</td>\n",
       "      <td>1235000.0</td>\n",
       "      <td>2014-06-01</td>\n",
       "      <td>6</td>\n",
       "      <td>June</td>\n",
       "      <td>2014</td>\n",
       "    </tr>\n",
       "  </tbody>\n",
       "</table>\n",
       "</div>"
      ],
      "text/plain": [
       "      Segment  Country    Product Discount Band  Units Sold  \\\n",
       "0  Government   Canada  Carretera          None      1618.5   \n",
       "1  Government  Germany  Carretera          None      1321.0   \n",
       "2   Midmarket   France  Carretera          None      2178.0   \n",
       "3   Midmarket  Germany  Carretera          None       888.0   \n",
       "4   Midmarket   Mexico  Carretera          None      2470.0   \n",
       "\n",
       "   Manufacturing Price  Sale Price  Gross Sales  Discounts    Sales     COGS  \\\n",
       "0                  300        2000      3237000        NaN  3237000  1618500   \n",
       "1                  300        2000      2642000        NaN  2642000  1321000   \n",
       "2                  300        1500      3267000        NaN  3267000  2178000   \n",
       "3                  300        1500      1332000        NaN  1332000   888000   \n",
       "4                  300        1500      3705000        NaN  3705000  2470000   \n",
       "\n",
       "      Profit       Date  Month Number Month Name  Year  \n",
       "0  1618500.0 2014-01-01             1    January  2014  \n",
       "1  1321000.0 2014-01-01             1    January  2014  \n",
       "2  1089000.0 2014-06-01             6       June  2014  \n",
       "3   444000.0 2014-06-01             6       June  2014  \n",
       "4  1235000.0 2014-06-01             6       June  2014  "
      ]
     },
     "execution_count": 115,
     "metadata": {},
     "output_type": "execute_result"
    }
   ],
   "source": [
    "### check the top records of the cleaned dataset \n",
    "\n",
    "df1.head(5)"
   ]
  },
  {
   "cell_type": "markdown",
   "id": "8eaa98ea",
   "metadata": {},
   "source": [
    "## Profitability Analysis "
   ]
  },
  {
   "cell_type": "code",
   "execution_count": 116,
   "id": "df14ec03",
   "metadata": {},
   "outputs": [
    {
     "data": {
      "text/plain": [
       "Government          300\n",
       "Midmarket           100\n",
       "Channel Partners    100\n",
       "Enterprise          100\n",
       "Small Business      100\n",
       "Name: Segment, dtype: int64"
      ]
     },
     "execution_count": 116,
     "metadata": {},
     "output_type": "execute_result"
    }
   ],
   "source": [
    "### how many segements we have \n",
    "\n",
    "df1.Segment.value_counts()"
   ]
  },
  {
   "cell_type": "code",
   "execution_count": 118,
   "id": "77ccd777",
   "metadata": {},
   "outputs": [
    {
     "data": {
      "text/plain": [
       "<AxesSubplot: ylabel='Segment'>"
      ]
     },
     "execution_count": 118,
     "metadata": {},
     "output_type": "execute_result"
    },
    {
     "data": {
      "image/png": "[encoded data removed]",
      "text/plain": [
       "<Figure size 640x480 with 1 Axes>"
      ]
     },
     "metadata": {},
     "output_type": "display_data"
    }
   ],
   "source": [
    "# ## which segments is profitable \n",
    "\n",
    "df1.groupby('Segment')['Profit'].sum().sort_values(ascending=False).plot(kind='barh')\n",
    "\n"
   ]
  },
  {
   "cell_type": "code",
   "execution_count": 119,
   "id": "ed52281b",
   "metadata": {},
   "outputs": [
    {
     "data": {
      "text/plain": [
       "<AxesSubplot: ylabel='Country'>"
      ]
     },
     "execution_count": 119,
     "metadata": {},
     "output_type": "execute_result"
    },
    {
     "data": {
      "image/png": "[encoded data removed]",
      "text/plain": [
       "<Figure size 640x480 with 1 Axes>"
      ]
     },
     "metadata": {},
     "output_type": "display_data"
    }
   ],
   "source": [
    "# ## which Country gets most of the profit  \n",
    "\n",
    "df1.groupby('Country')['Profit'].sum().sort_values(ascending=False).plot(kind='barh')\n",
    "\n"
   ]
  },
  {
   "cell_type": "code",
   "execution_count": null,
   "id": "e9258c03",
   "metadata": {},
   "outputs": [],
   "source": []
  },
  {
   "cell_type": "markdown",
   "id": "b822313c",
   "metadata": {},
   "source": [
    "## Product Analysis "
   ]
  },
  {
   "cell_type": "code",
   "execution_count": 120,
   "id": "1480d155",
   "metadata": {},
   "outputs": [
    {
     "data": {
      "text/plain": [
       "Paseo        202\n",
       "Velo         109\n",
       "VTT          109\n",
       "Amarilla      94\n",
       "Carretera     93\n",
       "Montana       93\n",
       "Name: Product, dtype: int64"
      ]
     },
     "execution_count": 120,
     "metadata": {},
     "output_type": "execute_result"
    }
   ],
   "source": [
    "## how many products do we  have for each category\n",
    "\n",
    "df1.Product.value_counts()"
   ]
  },
  {
   "cell_type": "code",
   "execution_count": 121,
   "id": "1a81d04a",
   "metadata": {},
   "outputs": [
    {
     "data": {
      "text/plain": [
       "Product\n",
       "Amarilla     12868.085106\n",
       "Carretera    11177.419355\n",
       "Montana      11709.677419\n",
       "Paseo        10817.821782\n",
       "VTT          13858.715596\n",
       "Velo         11523.853211\n",
       "Name: Sale Price, dtype: float64"
      ]
     },
     "execution_count": 121,
     "metadata": {},
     "output_type": "execute_result"
    }
   ],
   "source": [
    "## which products are expensive  \n",
    "df1.groupby('Product')['Sale Price'].mean()"
   ]
  },
  {
   "cell_type": "code",
   "execution_count": 122,
   "id": "71469a03",
   "metadata": {},
   "outputs": [
    {
     "data": {
      "text/plain": [
       "<AxesSubplot: ylabel='Product'>"
      ]
     },
     "execution_count": 122,
     "metadata": {},
     "output_type": "execute_result"
    },
    {
     "data": {
      "image/png": "[encoded data removed]",
      "text/plain": [
       "<Figure size 640x480 with 1 Axes>"
      ]
     },
     "metadata": {},
     "output_type": "display_data"
    }
   ],
   "source": [
    "## visualize which product are expensive \n",
    "df1.groupby('Product')['Sale Price'].mean().sort_values(ascending=False).plot(kind='barh')\n"
   ]
  },
  {
   "cell_type": "code",
   "execution_count": 123,
   "id": "7183b83e",
   "metadata": {},
   "outputs": [
    {
     "data": {
      "text/plain": [
       "Product\n",
       "Amarilla     129016345.0\n",
       "Carretera    112221262.0\n",
       "Montana      115903262.0\n",
       "Paseo        260051806.0\n",
       "VTT          145661248.0\n",
       "Velo         157670904.0\n",
       "Name: Discounts, dtype: float64"
      ]
     },
     "execution_count": 123,
     "metadata": {},
     "output_type": "execute_result"
    }
   ],
   "source": [
    "## which product has highest discounts\n",
    "\n",
    "df1.groupby('Product')['Discounts'].sum()"
   ]
  },
  {
   "cell_type": "code",
   "execution_count": 77,
   "id": "11a7bf39",
   "metadata": {},
   "outputs": [
    {
     "data": {
      "text/plain": [
       "<AxesSubplot: ylabel='Product'>"
      ]
     },
     "execution_count": 77,
     "metadata": {},
     "output_type": "execute_result"
    },
    {
     "data": {
      "image/png": "[encoded data removed]",
      "text/plain": [
       "<Figure size 640x480 with 1 Axes>"
      ]
     },
     "metadata": {},
     "output_type": "display_data"
    }
   ],
   "source": [
    "## visualize which product has highest discounts \n",
    "\n",
    "df1.groupby('Product')['Discounts'].sum().sort_values(ascending=False).plot(kind='barh')\n"
   ]
  },
  {
   "cell_type": "code",
   "execution_count": 125,
   "id": "5ed402f2",
   "metadata": {},
   "outputs": [
    {
     "data": {
      "text/plain": [
       "Product\n",
       "Paseo        503853546.0\n",
       "VTT          327808802.0\n",
       "Amarilla     305798407.0\n",
       "Velo         255690497.0\n",
       "Carretera    228902489.0\n",
       "Montana      222780738.0\n",
       "Name: Profit, dtype: float64"
      ]
     },
     "execution_count": 125,
     "metadata": {},
     "output_type": "execute_result"
    }
   ],
   "source": [
    "## which product is most profitable \n",
    "\n",
    "df1.groupby('Product')['Profit'].sum().sort_values(ascending=False)\n"
   ]
  },
  {
   "cell_type": "code",
   "execution_count": 126,
   "id": "28289e81",
   "metadata": {
    "scrolled": true
   },
   "outputs": [
    {
     "data": {
      "text/plain": [
       "<AxesSubplot: ylabel='Product'>"
      ]
     },
     "execution_count": 126,
     "metadata": {},
     "output_type": "execute_result"
    },
    {
     "data": {
      "image/png": "[encoded data removed]",
      "text/plain": [
       "<Figure size 640x480 with 1 Axes>"
      ]
     },
     "metadata": {},
     "output_type": "display_data"
    }
   ],
   "source": [
    "## visualize which product has higest profit \n",
    "df1.groupby('Product')['Profit'].sum().sort_values(ascending=False).plot(kind='barh')\n"
   ]
  },
  {
   "cell_type": "code",
   "execution_count": 127,
   "id": "babf3ae3",
   "metadata": {},
   "outputs": [
    {
     "data": {
      "text/plain": [
       "<AxesSubplot: ylabel='Month Name'>"
      ]
     },
     "execution_count": 127,
     "metadata": {},
     "output_type": "execute_result"
    },
    {
     "data": {
      "image/png": "[encoded data removed]",
      "text/plain": [
       "<Figure size 640x480 with 1 Axes>"
      ]
     },
     "metadata": {},
     "output_type": "display_data"
    }
   ],
   "source": [
    "## visualize which month has the higest profit \n",
    "df1.groupby('Month Name')['Profit'].sum().sort_values(ascending=False).plot(kind='barh')\n"
   ]
  },
  {
   "cell_type": "code",
   "execution_count": 93,
   "id": "59da627d",
   "metadata": {},
   "outputs": [
    {
     "data": {
      "text/plain": [
       "<AxesSubplot: ylabel='Month Name'>"
      ]
     },
     "execution_count": 93,
     "metadata": {},
     "output_type": "execute_result"
    },
    {
     "data": {
      "image/png": "[encoded data removed]",
      "text/plain": [
       "<Figure size 640x480 with 1 Axes>"
      ]
     },
     "metadata": {},
     "output_type": "display_data"
    }
   ],
   "source": [
    "# which products sells most in which months\n",
    "\n",
    "df1.groupby(['Month Name', 'Product']).size().unstack().plot(kind='barh', stacked=True)"
   ]
  },
  {
   "cell_type": "code",
   "execution_count": 128,
   "id": "71a418bd",
   "metadata": {},
   "outputs": [
    {
     "data": {
      "text/plain": [
       "<AxesSubplot: ylabel='Month Name'>"
      ]
     },
     "execution_count": 128,
     "metadata": {},
     "output_type": "execute_result"
    },
    {
     "data": {
      "image/png": "[encoded data removed]",
      "text/plain": [
       "<Figure size 640x480 with 1 Axes>"
      ]
     },
     "metadata": {},
     "output_type": "display_data"
    }
   ],
   "source": [
    "## visualize how many units were sold  in each month\n",
    "df1.groupby('Month Name')['Units Sold'].sum().sort_values(ascending=False).plot(kind='barh')\n"
   ]
  },
  {
   "cell_type": "code",
   "execution_count": 129,
   "id": "31c3514f",
   "metadata": {},
   "outputs": [
    {
     "data": {
      "text/plain": [
       "<AxesSubplot: ylabel='Month Name'>"
      ]
     },
     "execution_count": 129,
     "metadata": {},
     "output_type": "execute_result"
    },
    {
     "data": {
      "image/png": "[encoded data removed]",
      "text/plain": [
       "<Figure size 640x480 with 1 Axes>"
      ]
     },
     "metadata": {},
     "output_type": "display_data"
    }
   ],
   "source": [
    "# which month has highest discounts\n",
    "\n",
    "\n",
    "df1.groupby('Month Name')['Discounts'].sum().sort_values(ascending=False).plot(kind='barh')\n"
   ]
  },
  {
   "cell_type": "code",
   "execution_count": null,
   "id": "a197aed1",
   "metadata": {},
   "outputs": [],
   "source": []
  }
 ],
 "metadata": {
  "kernelspec": {
   "display_name": "Python 3 (ipykernel)",
   "language": "python",
   "name": "python3"
  },
  "language_info": {
   "codemirror_mode": {
    "name": "ipython",
    "version": 3
   },
   "file_extension": ".py",
   "mimetype": "text/x-python",
   "name": "python",
   "nbconvert_exporter": "python",
   "pygments_lexer": "ipython3",
   "version": "3.9.4"
  }
 },
 "nbformat": 4,
 "nbformat_minor": 5
}
